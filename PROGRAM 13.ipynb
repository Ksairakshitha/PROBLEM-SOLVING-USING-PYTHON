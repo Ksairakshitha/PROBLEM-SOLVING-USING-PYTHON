{
 "cells": [
  {
   "cell_type": "code",
   "execution_count": 1,
   "id": "96d84dcc",
   "metadata": {},
   "outputs": [
    {
     "name": "stdout",
     "output_type": "stream",
     "text": [
      "{'Q': ['Q1'], 's': ['sec'], 'p': ['python'], 'l': ['lab'], 'N': ['New'], 'H': ['Horizon'], 'C': ['College'], 'o': ['of'], 'E': ['Engineering']}\n"
     ]
    }
   ],
   "source": [
    "string_input=('Q1 sec python lab New Horizon College of Engineering')\n",
    "words=string_input.split()\n",
    "dictionary={}\n",
    "for word in words:\n",
    "   if [word[0] not in dictionary.keys()]:\n",
    "       dictionary[word[0]]=[]\n",
    "       dictionary[word[0]].append(word)\n",
    "   else:\n",
    "      if(word not in dictionary[word[0]]):\n",
    "            dictionary[word[0]].append(word)\n",
    "print(dictionary)\n"
   ]
  },
  {
   "cell_type": "code",
   "execution_count": null,
   "id": "ad48a71e",
   "metadata": {},
   "outputs": [],
   "source": []
  }
 ],
 "metadata": {
  "kernelspec": {
   "display_name": "Python 3 (ipykernel)",
   "language": "python",
   "name": "python3"
  },
  "language_info": {
   "codemirror_mode": {
    "name": "ipython",
    "version": 3
   },
   "file_extension": ".py",
   "mimetype": "text/x-python",
   "name": "python",
   "nbconvert_exporter": "python",
   "pygments_lexer": "ipython3",
   "version": "3.11.5"
  }
 },
 "nbformat": 4,
 "nbformat_minor": 5
}
