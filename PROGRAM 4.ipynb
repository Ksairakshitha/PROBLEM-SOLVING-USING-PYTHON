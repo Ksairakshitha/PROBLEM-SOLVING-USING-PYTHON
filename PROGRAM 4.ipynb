{
 "cells": [
  {
   "cell_type": "code",
   "execution_count": null,
   "id": "e2b9f337",
   "metadata": {},
   "outputs": [],
   "source": [
    "from math import factorial\n",
    "n=int(input(\"Enter the no. of rows\"))\n",
    "for i in range(n):\n",
    "    for j in range(n-i+1):\n",
    "         print(end=\" \")\n",
    "    for j in range (i+1):\n",
    "            print(factorial(i)//(factorial(j)*factorial(i-j)),end=\" \")\n",
    "    print()            "
   ]
  }
 ],
 "metadata": {
  "kernelspec": {
   "display_name": "Python 3 (ipykernel)",
   "language": "python",
   "name": "python3"
  },
  "language_info": {
   "codemirror_mode": {
    "name": "ipython",
    "version": 3
   },
   "file_extension": ".py",
   "mimetype": "text/x-python",
   "name": "python",
   "nbconvert_exporter": "python",
   "pygments_lexer": "ipython3",
   "version": "3.11.5"
  }
 },
 "nbformat": 4,
 "nbformat_minor": 5
}
