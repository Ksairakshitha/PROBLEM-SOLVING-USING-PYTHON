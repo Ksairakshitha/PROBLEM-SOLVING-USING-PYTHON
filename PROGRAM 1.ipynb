{
 "cells": [
  {
   "cell_type": "code",
   "execution_count": 1,
   "id": "e430ca59",
   "metadata": {},
   "outputs": [
    {
     "name": "stdout",
     "output_type": "stream",
     "text": [
      "Enter the value of a= 1\n",
      "enter the value of b =2\n",
      "enter the value of c= 3\n",
      "The roots are real and unequal\n",
      "the roots of the quadratic euqation  1 x**2+ 2 x+ 3 =0are (-1-1.4142135623730951j) and  (-1+1.4142135623730951j)\n"
     ]
    }
   ],
   "source": [
    "#QUADRATIC EQUATION\n",
    "import cmath\n",
    "a=int(input(\"Enter the value of a= \"))\n",
    "b=int(input(\"enter the value of b =\"))\n",
    "c=int(input(\"enter the value of c= \"))\n",
    "#discriminant\n",
    "d=b**2-(4*a*c)\n",
    "#nature of roots\n",
    "if(d>0):\n",
    "    print(\"The roots are complex\")\n",
    "elif (d<0):\n",
    "    print(\"The roots are real and unequal\")\n",
    "else:\n",
    "    print (\"the roots are real and equal\")\n",
    "#finding the roots of the quadratic \n",
    "root1=(-b-cmath.sqrt(d))/(2*a)\n",
    "root2=(-b+cmath.sqrt(d))/(2*a)\n",
    "print(\"the roots of the quadratic euqation \",a,\"x**2+\",b,\"x+\",c,\"=0are\",root1,\"and \",root2)\n",
    "\n",
    "    \n",
    "    "
   ]
  },
  {
   "cell_type": "code",
   "execution_count": null,
   "id": "45520110",
   "metadata": {},
   "outputs": [],
   "source": []
  }
 ],
 "metadata": {
  "kernelspec": {
   "display_name": "Python 3 (ipykernel)",
   "language": "python",
   "name": "python3"
  },
  "language_info": {
   "codemirror_mode": {
    "name": "ipython",
    "version": 3
   },
   "file_extension": ".py",
   "mimetype": "text/x-python",
   "name": "python",
   "nbconvert_exporter": "python",
   "pygments_lexer": "ipython3",
   "version": "3.11.5"
  }
 },
 "nbformat": 4,
 "nbformat_minor": 5
}
