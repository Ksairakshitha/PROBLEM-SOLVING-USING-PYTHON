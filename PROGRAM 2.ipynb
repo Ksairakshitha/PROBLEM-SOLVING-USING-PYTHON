{
 "cells": [
  {
   "cell_type": "code",
   "execution_count": 1,
   "id": "ebd29f1c",
   "metadata": {},
   "outputs": [
    {
     "name": "stdout",
     "output_type": "stream",
     "text": [
      "Enter the value of x4\n",
      "Enter the value of y 8\n",
      "The gcd of  4 and 8 is 4\n",
      "The lcm of  4 and 8 is 8.0\n"
     ]
    }
   ],
   "source": [
    "#GCD and LCM\n",
    "x=int(input(\"Enter the value of x\"))\n",
    "y=int(input(\"Enter the value of y \"))\n",
    "def  GCD(x,y):\n",
    "   if (x>y):\n",
    "      small=y\n",
    "   else:\n",
    "      small=x\n",
    "   for i in range(1,small+1):\n",
    "       if x%i==0 and y%i==0:\n",
    "            GCD=i\n",
    "   return GCD \n",
    "GCD=GCD(x,y)\n",
    "LCM=(x*y)/GCD\n",
    "print(\"The gcd of \",x,\"and\",y,\"is\",GCD)\n",
    "print(\"The lcm of \",x,\"and\",y,\"is\",LCM)"
   ]
  },
  {
   "cell_type": "code",
   "execution_count": null,
   "id": "681352e8",
   "metadata": {},
   "outputs": [],
   "source": []
  }
 ],
 "metadata": {
  "kernelspec": {
   "display_name": "Python 3 (ipykernel)",
   "language": "python",
   "name": "python3"
  },
  "language_info": {
   "codemirror_mode": {
    "name": "ipython",
    "version": 3
   },
   "file_extension": ".py",
   "mimetype": "text/x-python",
   "name": "python",
   "nbconvert_exporter": "python",
   "pygments_lexer": "ipython3",
   "version": "3.11.5"
  }
 },
 "nbformat": 4,
 "nbformat_minor": 5
}
