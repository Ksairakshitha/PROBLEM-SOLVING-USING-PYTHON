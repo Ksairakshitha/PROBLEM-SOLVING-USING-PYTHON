{
 "cells": [
  {
   "cell_type": "code",
   "execution_count": 1,
   "id": "71ef9c7e",
   "metadata": {},
   "outputs": [
    {
     "name": "stdout",
     "output_type": "stream",
     "text": [
      "Original key is ['rash', 'kill', 'varsha']\n",
      "Original value of list is [1, 4, 5]\n",
      "resultant dictionary is : {'rash': 1, 'kill': 4, 'varsha': 5}\n"
     ]
    }
   ],
   "source": [
    "test_keys=[\"rash\",\"kill\",\"varsha\"]\n",
    "test_values=[1,4,5]\n",
    "res={}\n",
    "print(\"Original key is \"+str(test_keys))\n",
    "print(\"Original value of list is \"+str(test_values))\n",
    "for key in test_keys:\n",
    "    for value in test_values:\n",
    "        res[key]=value\n",
    "        test_values.remove(value)\n",
    "        break\n",
    "print(\"resultant dictionary is :\",str(res))        "
   ]
  },
  {
   "cell_type": "code",
   "execution_count": null,
   "id": "d3d32571",
   "metadata": {},
   "outputs": [],
   "source": []
  }
 ],
 "metadata": {
  "kernelspec": {
   "display_name": "Python 3 (ipykernel)",
   "language": "python",
   "name": "python3"
  },
  "language_info": {
   "codemirror_mode": {
    "name": "ipython",
    "version": 3
   },
   "file_extension": ".py",
   "mimetype": "text/x-python",
   "name": "python",
   "nbconvert_exporter": "python",
   "pygments_lexer": "ipython3",
   "version": "3.11.5"
  }
 },
 "nbformat": 4,
 "nbformat_minor": 5
}
