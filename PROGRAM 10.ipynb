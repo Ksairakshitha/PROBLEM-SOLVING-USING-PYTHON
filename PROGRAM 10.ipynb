{
 "cells": [
  {
   "cell_type": "code",
   "execution_count": 1,
   "id": "b3a44332",
   "metadata": {},
   "outputs": [
    {
     "name": "stdout",
     "output_type": "stream",
     "text": [
      "0.1\n"
     ]
    }
   ],
   "source": [
    "import math\n",
    "def sin(x,n):\n",
    "    sine=0\n",
    "    for i in range(n):\n",
    "       sign=(-1)**i\n",
    "       pi=22/7\n",
    "       y=x*(pi/180)\n",
    "       sine+=((y**(2.0*i+1)))/(math.factorial(2*i+1))*sign\n",
    "       return sine\n",
    "x=6\n",
    "n=40\n",
    "print(round(sin(x,n),2))\n",
    "    "
   ]
  },
  {
   "cell_type": "code",
   "execution_count": null,
   "id": "fdc6800a",
   "metadata": {},
   "outputs": [],
   "source": []
  }
 ],
 "metadata": {
  "kernelspec": {
   "display_name": "Python 3 (ipykernel)",
   "language": "python",
   "name": "python3"
  },
  "language_info": {
   "codemirror_mode": {
    "name": "ipython",
    "version": 3
   },
   "file_extension": ".py",
   "mimetype": "text/x-python",
   "name": "python",
   "nbconvert_exporter": "python",
   "pygments_lexer": "ipython3",
   "version": "3.11.5"
  }
 },
 "nbformat": 4,
 "nbformat_minor": 5
}
