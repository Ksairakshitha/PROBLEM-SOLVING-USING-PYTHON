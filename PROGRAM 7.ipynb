{
 "cells": [
  {
   "cell_type": "code",
   "execution_count": 3,
   "id": "fa2e179b",
   "metadata": {},
   "outputs": [
    {
     "name": "stdout",
     "output_type": "stream",
     "text": [
      "Enter the num  : 4\n",
      "The sum of  4 is  10\n"
     ]
    }
   ],
   "source": [
    "def r_sum(x):\n",
    "    if x<0:\n",
    "        print(\"sum is 0\")\n",
    "    elif x==1:\n",
    "        return 1\n",
    "    else:\n",
    "        return x+r_sum(x-1)\n",
    "x=int(input(\"Enter the num  : \"))\n",
    "print(\"The sum of \",x,\"is \",r_sum(x))\n"
   ]
  },
  {
   "cell_type": "code",
   "execution_count": null,
   "id": "eda85666",
   "metadata": {},
   "outputs": [],
   "source": []
  }
 ],
 "metadata": {
  "kernelspec": {
   "display_name": "Python 3 (ipykernel)",
   "language": "python",
   "name": "python3"
  },
  "language_info": {
   "codemirror_mode": {
    "name": "ipython",
    "version": 3
   },
   "file_extension": ".py",
   "mimetype": "text/x-python",
   "name": "python",
   "nbconvert_exporter": "python",
   "pygments_lexer": "ipython3",
   "version": "3.11.5"
  }
 },
 "nbformat": 4,
 "nbformat_minor": 5
}
