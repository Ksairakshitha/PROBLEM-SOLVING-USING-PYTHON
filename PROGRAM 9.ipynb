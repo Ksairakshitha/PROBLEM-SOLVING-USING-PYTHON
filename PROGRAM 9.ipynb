{
 "cells": [
  {
   "cell_type": "code",
   "execution_count": 1,
   "id": "fbf9d3af",
   "metadata": {},
   "outputs": [
    {
     "name": "stdout",
     "output_type": "stream",
     "text": [
      "New Horizon @#$%College of @#$&Engineering\n",
      "The number of upper case leteers are 4\n",
      "The number of lower 26\n",
      "the number of other 8\n",
      "the no. of white spces 4\n",
      "the toggled case sentence is nEW hORIZON @#$%cOLLEGE OF @#$&eNGINEERING\n",
      "the toggled New horizon @#$%college of @#$&engineering\n",
      "the toggled New Horizon @#$%College Of @#$&Engineering\n"
     ]
    }
   ],
   "source": [
    "str=\"New Horizon @#$%College of @#$&Engineering\"\n",
    "print(str)\n",
    "lower=0\n",
    "upper=0\n",
    "space=0\n",
    "other=0\n",
    "for i in str:\n",
    "    if(i.islower()):\n",
    "        lower+=1\n",
    "    elif(i.isupper()):\n",
    "        upper+=1\n",
    "    elif(i.isspace()):\n",
    "        space+=1\n",
    "    else:\n",
    "        other+=1\n",
    "print(\"The number of upper case leteers are\",upper)\n",
    "print(\"The number of lower\",lower)\n",
    "print(\"the number of other\",other)\n",
    "print(\"the no. of white spces\",space)\n",
    "print(\"the toggled case sentence is\",str.swapcase())\n",
    "print(\"the toggled\",str.capitalize())\n",
    "print(\"the toggled\",str.title())\n",
    "        \n",
    "        \n",
    "    \n"
   ]
  },
  {
   "cell_type": "code",
   "execution_count": null,
   "id": "73a69b4d",
   "metadata": {},
   "outputs": [],
   "source": []
  }
 ],
 "metadata": {
  "kernelspec": {
   "display_name": "Python 3 (ipykernel)",
   "language": "python",
   "name": "python3"
  },
  "language_info": {
   "codemirror_mode": {
    "name": "ipython",
    "version": 3
   },
   "file_extension": ".py",
   "mimetype": "text/x-python",
   "name": "python",
   "nbconvert_exporter": "python",
   "pygments_lexer": "ipython3",
   "version": "3.11.5"
  }
 },
 "nbformat": 4,
 "nbformat_minor": 5
}
