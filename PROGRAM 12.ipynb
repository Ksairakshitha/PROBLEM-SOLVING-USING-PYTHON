{
 "cells": [
  {
   "cell_type": "code",
   "execution_count": 1,
   "id": "c7339404",
   "metadata": {},
   "outputs": [
    {
     "name": "stdout",
     "output_type": "stream",
     "text": [
      "Enter the length of the string:  5\n",
      "Enter the list of number :  65\n",
      "Enter the list of number :  72\n",
      "Enter the list of number :  89\n",
      "Enter the list of number :  90\n",
      "Enter the list of number :  54\n",
      "[65, 72, 89, 90, 54]\n",
      "odd list is   [65, 89]\n",
      "even list is   [72, 90, 54]\n"
     ]
    }
   ],
   "source": [
    "length=int(input(\"Enter the length of the string:  \"))\n",
    "list1=[]\n",
    "for i in range(length):\n",
    "           num=int(input(\"Enter the list of number :  \"))\n",
    "           list1.append(num)\n",
    "print(list1)\n",
    "even=[num for num in list1 if num%2==0]\n",
    "odd=[num for num in list1 if num%2!=0]\n",
    "print(\"odd list is  \",odd)\n",
    "print(\"even list is  \",even)"
   ]
  },
  {
   "cell_type": "markdown",
   "id": "48a25626",
   "metadata": {},
   "source": [
    "##### "
   ]
  }
 ],
 "metadata": {
  "kernelspec": {
   "display_name": "Python 3 (ipykernel)",
   "language": "python",
   "name": "python3"
  },
  "language_info": {
   "codemirror_mode": {
    "name": "ipython",
    "version": 3
   },
   "file_extension": ".py",
   "mimetype": "text/x-python",
   "name": "python",
   "nbconvert_exporter": "python",
   "pygments_lexer": "ipython3",
   "version": "3.11.5"
  }
 },
 "nbformat": 4,
 "nbformat_minor": 5
}
