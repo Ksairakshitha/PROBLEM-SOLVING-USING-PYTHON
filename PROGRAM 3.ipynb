{
 "cells": [
  {
   "cell_type": "code",
   "execution_count": 1,
   "id": "e9ef2de9",
   "metadata": {},
   "outputs": [
    {
     "name": "stdout",
     "output_type": "stream",
     "text": [
      "fact of  4 is 24\n"
     ]
    }
   ],
   "source": [
    "num=4\n",
    "fact=1\n",
    "if num<0:\n",
    "    print(\"FACT does not exist\")\n",
    "elif num==0:\n",
    "    print(\"FACT =1\")\n",
    "else:\n",
    "    for i in range (1,num+1):\n",
    "          fact=fact*i\n",
    "print(\"fact of \",num, \"is\",fact)"
   ]
  },
  {
   "cell_type": "code",
   "execution_count": null,
   "id": "e30d2b15",
   "metadata": {},
   "outputs": [],
   "source": []
  }
 ],
 "metadata": {
  "kernelspec": {
   "display_name": "Python 3 (ipykernel)",
   "language": "python",
   "name": "python3"
  },
  "language_info": {
   "codemirror_mode": {
    "name": "ipython",
    "version": 3
   },
   "file_extension": ".py",
   "mimetype": "text/x-python",
   "name": "python",
   "nbconvert_exporter": "python",
   "pygments_lexer": "ipython3",
   "version": "3.11.5"
  }
 },
 "nbformat": 4,
 "nbformat_minor": 5
}
