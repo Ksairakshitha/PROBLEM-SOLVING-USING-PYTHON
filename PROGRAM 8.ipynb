{
 "cells": [
  {
   "cell_type": "code",
   "execution_count": 1,
   "id": "50ec11ed",
   "metadata": {},
   "outputs": [
    {
     "name": "stdout",
     "output_type": "stream",
     "text": [
      "New -horizon -college-of -enginerring\n",
      "['New ', 'horizon ', 'college', 'of ', 'enginerring']\n",
      "['New ', 'college', 'enginerring', 'horizon ', 'of ']\n",
      "New -college-enginerring-horizon -of \n"
     ]
    }
   ],
   "source": [
    "string1=(\"New -horizon -college-of -enginerring\")\n",
    "print(string1)\n",
    "words=string1.split('-')\n",
    "print(words)\n",
    "sorted_string=sorted(words)\n",
    "print(sorted_string)\n",
    "hyphen='-'.join(sorted_string)\n",
    "print(hyphen)"
   ]
  },
  {
   "cell_type": "code",
   "execution_count": null,
   "id": "14c77819",
   "metadata": {},
   "outputs": [],
   "source": []
  }
 ],
 "metadata": {
  "kernelspec": {
   "display_name": "Python 3 (ipykernel)",
   "language": "python",
   "name": "python3"
  },
  "language_info": {
   "codemirror_mode": {
    "name": "ipython",
    "version": 3
   },
   "file_extension": ".py",
   "mimetype": "text/x-python",
   "name": "python",
   "nbconvert_exporter": "python",
   "pygments_lexer": "ipython3",
   "version": "3.11.5"
  }
 },
 "nbformat": 4,
 "nbformat_minor": 5
}
