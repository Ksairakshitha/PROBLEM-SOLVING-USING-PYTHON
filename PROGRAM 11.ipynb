{
 "cells": [
  {
   "cell_type": "code",
   "execution_count": 1,
   "id": "f7ba8960",
   "metadata": {},
   "outputs": [
    {
     "name": "stdout",
     "output_type": "stream",
     "text": [
      "Enter the length of the list5\n",
      "Enter the list number:12\n",
      "Enter the list number:45\n",
      "Enter the list number:67\n",
      "Enter the list number:90\n",
      "Enter the list number:43\n",
      "[12, 45, 67, 90, 43]\n",
      "[12, 43, 45, 67, 90]\n",
      "the first largest num 90\n",
      "the second largest num 67\n",
      "the smaleest num 12\n"
     ]
    }
   ],
   "source": [
    "length=int(input(\"Enter the length of the list\"))\n",
    "list1=[]\n",
    "for i in range(length):\n",
    "    num=int(input(\"Enter the list number:\"))\n",
    "    list1.append(num)\n",
    "print(list1) \n",
    "sorted_list=sorted(list1)\n",
    "print(sorted_list)\n",
    "print(\"the first largest num\",sorted_list[-1])\n",
    "print(\"the second largest num\",sorted_list[-2])\n",
    "print(\"the smaleest num\",sorted_list[0])\n"
   ]
  },
  {
   "cell_type": "code",
   "execution_count": null,
   "id": "7f8e065a",
   "metadata": {},
   "outputs": [],
   "source": []
  }
 ],
 "metadata": {
  "kernelspec": {
   "display_name": "Python 3 (ipykernel)",
   "language": "python",
   "name": "python3"
  },
  "language_info": {
   "codemirror_mode": {
    "name": "ipython",
    "version": 3
   },
   "file_extension": ".py",
   "mimetype": "text/x-python",
   "name": "python",
   "nbconvert_exporter": "python",
   "pygments_lexer": "ipython3",
   "version": "3.11.5"
  }
 },
 "nbformat": 4,
 "nbformat_minor": 5
}
